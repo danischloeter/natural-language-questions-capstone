{
 "cells": [
  {
   "cell_type": "markdown",
   "metadata": {
    "colab_type": "text",
    "id": "EZz1tN2rtgKs"
   },
   "source": [
    "# Installation and setup"
   ]
  },
  {
   "cell_type": "code",
   "execution_count": null,
   "metadata": {
    "colab": {
     "base_uri": "https://localhost:8080/",
     "height": 1000
    },
    "colab_type": "code",
    "id": "vb37VZKoteEz",
    "outputId": "829e31bc-4516-4fb6-f74a-b25169372e79"
   },
   "outputs": [],
   "source": [
    "#!pip install cdqa"
   ]
  },
  {
   "cell_type": "code",
   "execution_count": null,
   "metadata": {
    "colab": {
     "base_uri": "https://localhost:8080/",
     "height": 119
    },
    "colab_type": "code",
    "id": "C4ZMonKltpyW",
    "outputId": "acca39d1-c29a-4cde-ad47-5b992b3bb0b8"
   },
   "outputs": [],
   "source": [
    "# Run this cell only if in colab\n",
    "#!git clone https://github.com/poornimajoshi/natural-language-questions-capstone.git\n",
    "#%cd natural-language-questions-capstone/"
   ]
  },
  {
   "cell_type": "markdown",
   "metadata": {
    "colab_type": "text",
    "id": "jqcc8uf9tbrr"
   },
   "source": [
    "# Baseline with bert"
   ]
  },
  {
   "cell_type": "code",
   "execution_count": 1,
   "metadata": {
    "colab": {
     "base_uri": "https://localhost:8080/",
     "height": 51
    },
    "colab_type": "code",
    "id": "g4r4pTCOtbr2",
    "outputId": "b69fefca-c3d7-4216-af7f-e6d87dceb018"
   },
   "outputs": [
    {
     "name": "stdout",
     "output_type": "stream",
     "text": [
      "\n",
      "Downloading trained model...\n"
     ]
    }
   ],
   "source": [
    "from cdqa.utils.download import download_squad, download_model\n",
    "\n",
    "directory = 'models'\n",
    "\n",
    "# Downloading data\n",
    "# download_squad(dir=directory)\n",
    "\n",
    "# Downloading pre-trained BERT fine-tuned on SQuAD 1.1\n",
    "download_model('bert-squad_1.1', dir=directory)"
   ]
  },
  {
   "cell_type": "code",
   "execution_count": 2,
   "metadata": {
    "colab": {
     "base_uri": "https://localhost:8080/",
     "height": 204
    },
    "colab_type": "code",
    "id": "U6gAoCE_tbsF",
    "outputId": "28f11c56-d6be-4775-fb75-bb8647eecc8d"
   },
   "outputs": [
    {
     "name": "stderr",
     "output_type": "stream",
     "text": [
      "/Users/poornimajoshi/anaconda3/lib/python3.7/site-packages/tqdm/autonotebook/__init__.py:18: TqdmExperimentalWarning: Using `tqdm.autonotebook.tqdm` in notebook mode. Use `tqdm.tqdm` instead to force console mode (e.g. in jupyter console)\n",
      "  \" (e.g. in jupyter console)\", TqdmExperimentalWarning)\n"
     ]
    },
    {
     "data": {
      "text/html": [
       "<div>\n",
       "<style scoped>\n",
       "    .dataframe tbody tr th:only-of-type {\n",
       "        vertical-align: middle;\n",
       "    }\n",
       "\n",
       "    .dataframe tbody tr th {\n",
       "        vertical-align: top;\n",
       "    }\n",
       "\n",
       "    .dataframe thead th {\n",
       "        text-align: right;\n",
       "    }\n",
       "</style>\n",
       "<table border=\"1\" class=\"dataframe\">\n",
       "  <thead>\n",
       "    <tr style=\"text-align: right;\">\n",
       "      <th></th>\n",
       "      <th>question_text</th>\n",
       "      <th>short_answers</th>\n",
       "      <th>title</th>\n",
       "      <th>paragraphs</th>\n",
       "    </tr>\n",
       "  </thead>\n",
       "  <tbody>\n",
       "    <tr>\n",
       "      <th>0</th>\n",
       "      <td>which is the most common use of opt-in e-mail ...</td>\n",
       "      <td>a newsletter sent to an advertising firm 's cu...</td>\n",
       "      <td>Email marketing</td>\n",
       "      <td>[Email marketing - Wikipedia  Email marketing ...</td>\n",
       "    </tr>\n",
       "    <tr>\n",
       "      <th>1</th>\n",
       "      <td>how i.met your mother who is the mother</td>\n",
       "      <td>Tracy McConnell</td>\n",
       "      <td>The Mother ( How I Met Your Mother )</td>\n",
       "      <td>[The Mother ( How I Met Your Mother ) - wikipe...</td>\n",
       "    </tr>\n",
       "    <tr>\n",
       "      <th>2</th>\n",
       "      <td>who had the most wins in the nfl</td>\n",
       "      <td>Tom Brady</td>\n",
       "      <td>List of National Football League career quarte...</td>\n",
       "      <td>[List of National Football League career quart...</td>\n",
       "    </tr>\n",
       "    <tr>\n",
       "      <th>3</th>\n",
       "      <td>who played mantis guardians of the galaxy 2</td>\n",
       "      <td>Pom Klementieff</td>\n",
       "      <td>Pom Klementieff</td>\n",
       "      <td>[Pom Klementieff - wikipedia  Pom Klementieff ...</td>\n",
       "    </tr>\n",
       "    <tr>\n",
       "      <th>4</th>\n",
       "      <td>the nashville sound brought a polished and cos...</td>\n",
       "      <td>the use of lush string arrangements with a rea...</td>\n",
       "      <td>Nashville sound</td>\n",
       "      <td>[Nashville sound - wikipedia  Nashville sound ...</td>\n",
       "    </tr>\n",
       "  </tbody>\n",
       "</table>\n",
       "</div>"
      ],
      "text/plain": [
       "                                       question_text  \\\n",
       "0  which is the most common use of opt-in e-mail ...   \n",
       "1            how i.met your mother who is the mother   \n",
       "2                   who had the most wins in the nfl   \n",
       "3        who played mantis guardians of the galaxy 2   \n",
       "4  the nashville sound brought a polished and cos...   \n",
       "\n",
       "                                       short_answers  \\\n",
       "0  a newsletter sent to an advertising firm 's cu...   \n",
       "1                                    Tracy McConnell   \n",
       "2                                          Tom Brady   \n",
       "3                                    Pom Klementieff   \n",
       "4  the use of lush string arrangements with a rea...   \n",
       "\n",
       "                                               title  \\\n",
       "0                                    Email marketing   \n",
       "1               The Mother ( How I Met Your Mother )   \n",
       "2  List of National Football League career quarte...   \n",
       "3                                    Pom Klementieff   \n",
       "4                                    Nashville sound   \n",
       "\n",
       "                                          paragraphs  \n",
       "0  [Email marketing - Wikipedia  Email marketing ...  \n",
       "1  [The Mother ( How I Met Your Mother ) - wikipe...  \n",
       "2  [List of National Football League career quart...  \n",
       "3  [Pom Klementieff - wikipedia  Pom Klementieff ...  \n",
       "4  [Nashville sound - wikipedia  Nashville sound ...  "
      ]
     },
     "execution_count": 2,
     "metadata": {},
     "output_type": "execute_result"
    }
   ],
   "source": [
    "import pandas as pd\n",
    "from ast import literal_eval\n",
    "from cdqa.pipeline import QAPipeline\n",
    "\n",
    "df = pd.read_csv('dataset.csv', converters={'paragraphs': literal_eval})\n",
    "df.head()"
   ]
  },
  {
   "cell_type": "code",
   "execution_count": null,
   "metadata": {
    "colab": {
     "base_uri": "https://localhost:8080/",
     "height": 323
    },
    "colab_type": "code",
    "id": "fzk9i0tLtbsp",
    "outputId": "86a63478-3b89-4f2a-dcf2-af7dce3492c5"
   },
   "outputs": [],
   "source": [
    "cdqa_pipeline = QAPipeline(reader='models/bert_qa.joblib') # use 'distilbert_qa.joblib' for DistilBERT instead of BERT\n",
    "cdqa_pipeline.fit_retriever(df=df)"
   ]
  },
  {
   "cell_type": "code",
   "execution_count": 4,
   "metadata": {
    "colab": {
     "base_uri": "https://localhost:8080/",
     "height": 105
    },
    "colab_type": "code",
    "id": "yEfh2AJ5tbsw",
    "outputId": "dcc8865f-0142-4cdc-d7d2-c0f1092b5fe7"
   },
   "outputs": [
    {
     "name": "stdout",
     "output_type": "stream",
     "text": [
      "query: which is the most common use of opt-in e-mail marketing\n",
      "answer: when approaching a level crossing that lacks barriers , and for warning purposes\n",
      "title: Train horn\n",
      "paragraph: Horn signals are regulated in the Zp category of the Eisenbahn - Bau - und Betriebsordnung . Their most common use today is when approaching a level crossing that lacks barriers , and for warning purposes .  \n"
     ]
    }
   ],
   "source": [
    "query = 'which is the most common use of opt-in e-mail marketing'\n",
    "prediction = cdqa_pipeline.predict(query=query)\n",
    "print('query: {}'.format(query))\n",
    "print('answer: {}'.format(prediction[0]))\n",
    "print('title: {}'.format(prediction[1]))\n",
    "print('paragraph: {}'.format(prediction[2]))"
   ]
  },
  {
   "cell_type": "markdown",
   "metadata": {},
   "source": [
    "## Make prediction for each row"
   ]
  },
  {
   "cell_type": "code",
   "execution_count": 6,
   "metadata": {},
   "outputs": [
    {
     "name": "stdout",
     "output_type": "stream",
     "text": [
      "------------Example 0----------------\n",
      " \n",
      "query: which is the most common use of opt-in e-mail marketing\n",
      "predicted answer: when approaching a level crossing that lacks barriers , and for warning purposes\n",
      "annotated answer: a newsletter sent to an advertising firm 's customers\n",
      "title: Train horn\n",
      "paragraph: Horn signals are regulated in the Zp category of the Eisenbahn - Bau - und Betriebsordnung . Their most common use today is when approaching a level crossing that lacks barriers , and for warning purposes .  \n",
      " \n",
      "------------Example 1----------------\n",
      " \n",
      "query: how i.met your mother who is the mother\n",
      "predicted answer: Tracy McConnell\n",
      "annotated answer: Tracy McConnell\n",
      "title: The Mother ( How I Met Your Mother )\n",
      "paragraph: Tracy McConnell , better known as `` The Mother '' , is the title character from the CBS television sitcom How I Met Your Mother . The show , narrated by Future Ted , tells the story of how Ted Mosby met The Mother . Tracy McConnell appears in 8 episodes from `` Lucky Penny '' to `` The Time Travelers '' as an unseen character ; she was first seen fully in `` Something New '' and was promoted to a main character in season 9 . The Mother is played by Cristin Milioti .  \n",
      " \n",
      "------------Example 2----------------\n",
      " \n",
      "query: who had the most wins in the nfl\n",
      "predicted answer: the quarterback is the only position that is credited with records of wins and losses .\n",
      "annotated answer: Tom Brady\n",
      "title: List of National Football League career quarterback wins leaders\n",
      "paragraph: The following is a list of the top National Football League ( NFL ) quarterbacks in wins . In the NFL , the quarterback is the only position that is credited with records of wins and losses .  \n",
      " \n",
      "------------Example 3----------------\n",
      " \n",
      "query: who played mantis guardians of the galaxy 2\n",
      "predicted answer: Pom Klementieff\n",
      "annotated answer: Pom Klementieff\n",
      "title: Guardians of the Galaxy ( film )\n",
      "paragraph: Guardians of the Galaxy Vol. 2 was released on May 5 , 2017 , again written and directed by James Gunn . Pratt , Saldana , Bautista , Diesel , Cooper , Rooker , Gillan , and Sean Gunn all reprise their roles in the film , and are joined by Pom Klementieff as Mantis , Elizabeth Debicki as Ayesha , Chris Sullivan as Taserface , and Kurt Russell as Quill 's father Ego .   Guardians of the Galaxy Vol. 3 ( edit )  \n",
      " \n",
      "------------Example 4----------------\n",
      " \n",
      "query: the nashville sound brought a polished and cosmopolitan sound to country music by\n",
      "predicted answer: pop music Cultural origins 1950s\n",
      "annotated answer: the use of lush string arrangements with a real orchestra and often , background vocals provided by a choir\n",
      "title: Nashville sound\n",
      "paragraph: Nashville sound - wikipedia  Nashville sound  Jump to : navigation , search    Nashville sound     Stylistic origins   Country music , pop music     Cultural origins   1950s Nashville , Tennessee     Typical instruments   Guitar , strings , bass , drum , banjo , vocals     Derivative forms   Countrypolitan , country pop     Other topics     Country musicians -- List of years in country music    \n",
      " \n",
      "------------Example 5----------------\n",
      " \n",
      "query: what channel is the premier league on in france\n",
      "predicted answer: Israeli Premier League is the country 's premier football league\n",
      "annotated answer: SFR Sport\n",
      "title: Israel\n",
      "paragraph: The most popular spectator sports in Israel are association football and basketball . The Israeli Premier League is the country 's premier football league , and the Israeli Basketball Premier League is the premier basketball league . Maccabi Haifa , Maccabi Tel Aviv , Hapoel Tel Aviv and Beitar Jerusalem are the largest football clubs . Maccabi Tel Aviv , Maccabi Haifa and Hapoel Tel Aviv have competed in the UEFA Champions League and Hapoel Tel Aviv reached the UEFA Cup quarter - finals . Israel hosted and won the 1964 AFC Asian Cup ; in 1970 the Israel national football team qualified for the FIFA World Cup , the only time it participated in the World Cup . The 1974 Asian Games held in Tehran , were the last Asian Games in which Israel participated , and was plagued by the Arab countries which refused to compete with Israel . Israel was excluded from the 1978 Asian Games and since then has not competed in Asian sport events . In 1994 , UEFA agreed to admit Israel and its soccer teams now compete in Europe . Maccabi Tel Aviv B.C. has won the European championship in basketball six times . In 2016 , the country was chosen as a host for the EuroBasket 2017 .  Boris Gelfand , chess Grandmaster \n",
      " \n",
      "------------Example 6----------------\n",
      " \n",
      "query: who needs to be in the car with a permit driver\n",
      "predicted answer: a parent or guardian\n",
      "annotated answer: an adult licensed driver who is at least 21 years of age or older and in the passenger seat of the vehicle at all times\n",
      "title: Learner 's permit\n",
      "paragraph: In order for a minor to receive a learner 's permit , sometimes called an instructional permit , states typically require that the minor have signed permission from a parent or guardian . In the state of New Hampshire , a permit is not given but the young driver may begin to drive with a parent or guardian , or an adult 25 years of age , at the age of 15 and a half .  \n",
      " \n",
      "------------Example 7----------------\n",
      " \n",
      "query: god's not dead a light in the darkness release date\n",
      "predicted answer: March 30 , 2018\n",
      "annotated answer: March 30 , 2018\n",
      "title: God 's Not Dead : a Light in Darkness\n",
      "paragraph: God 's Not Dead : a Light in Darkness - Wikipedia  God 's Not Dead : a Light in Darkness     God 's Not Dead : A Light in Darkness     Theatrical release poster     Directed by   Michael Mason     Produced by     David A.R. White   Michael Scott   Brittany Yost   Elizabeth Travis   Alysoun Wolfe       Written by   Michael Mason     Starring     David A.R. White   John Corbett   Shane Harper   Ted McGinley   Tatum O'Neal       Music by   Pancho Burgos - Goizueta     Cinematography   Brian Shanley     Edited by   Joseph Sandoval     Production company   Pure Flix     Distributed by   Pure Flix Entertainment     Release date     March 30 , 2018 ( 2018 - 03 - 30 )               Running time   106 minutes     Country   United States     Language   English     Box office   $5.7 million    \n",
      " \n",
      "------------Example 8----------------\n",
      " \n",
      "query: who is the current president of un general assembly\n",
      "predicted answer: Miroslav Lajčák\n",
      "annotated answer: Miroslav Lajčák of Slovakia\n",
      "title: President of the United Nations General Assembly\n",
      "paragraph: President of the United Nations General Assembly - wikipedia  President of the United Nations General Assembly  Jump to : navigation , search    President of the United Nations General Assembly     Emblem of the United Nations     Incumbent Miroslav Lajčák     Appointer   United Nations General Assembly     Term length   1 year     Inaugural holder   Paul - Henri Spaak     Formation   1946     Website   List of Presidents of the UN General Assembly    \n",
      " \n",
      "------------Example 9----------------\n",
      " \n",
      "query: when do they pull the powerball numbers 2016\n",
      "predicted answer: it had not joined Mega Millions .\n",
      "annotated answer: every Wednesday and Saturday evening at 10 : 59 p.m. Eastern Time\n",
      "title: Powerball\n",
      "paragraph: In October 2014 , Puerto Rico joined Powerball ; the first mainly Spanish - speaking jurisdiction offering the game ; as of 2016 it had not joined Mega Millions .   2015 format change ( edit )  \n",
      " \n",
      "--- 29.42111086845398 seconds ---\n"
     ]
    }
   ],
   "source": [
    "import time\n",
    "start_time = time.time()\n",
    "\n",
    "eval_bert = []\n",
    "for i in range(0,10):\n",
    "    print('------------Example '+str(i)+'----------------')\n",
    "    print(' ')\n",
    "    query=df['question_text'][i]\n",
    "    prediction = cdqa_pipeline.predict(query=query)\n",
    "    print('query: {}'.format(query))\n",
    "    print('predicted answer: {}'.format(prediction[0]))\n",
    "    print('annotated answer: {}'.format(df['short_answers'][i]))\n",
    "    eval_bert.append([prediction[0],df['short_answers'][i]])\n",
    "    print('title: {}'.format(prediction[1]))\n",
    "    print('paragraph: {}'.format(prediction[2]))\n",
    "    print(' ')\n",
    "print(\"--- %s seconds ---\" % (time.time() - start_time))"
   ]
  },
  {
   "cell_type": "markdown",
   "metadata": {
    "colab_type": "text",
    "id": "7oENDo1BtbtD"
   },
   "source": [
    "# Evaluation from Cdqa"
   ]
  },
  {
   "cell_type": "code",
   "execution_count": 7,
   "metadata": {
    "colab": {
     "base_uri": "https://localhost:8080/",
     "height": 341
    },
    "colab_type": "code",
    "id": "cnAUZo6mtbtE",
    "outputId": "bb8bcc31-83c4-4c49-8987-85a6010ccbf3"
   },
   "outputs": [],
   "source": [
    "#from cdqa.utils.evaluation import evaluate_pipeline\n",
    "\n",
    "#evaluate_pipeline(cdqa_pipeline, '/content/natural-language-questions-capstone/test_data.jsonl')"
   ]
  },
  {
   "cell_type": "markdown",
   "metadata": {
    "colab": {},
    "colab_type": "code",
    "id": "BwcQvMsytbt2"
   },
   "source": [
    "# Baseline with distilbert"
   ]
  },
  {
   "cell_type": "code",
   "execution_count": 8,
   "metadata": {},
   "outputs": [
    {
     "name": "stdout",
     "output_type": "stream",
     "text": [
      "\n",
      "Downloading trained model...\n",
      "distilbert_qa.joblib already downloaded\n"
     ]
    }
   ],
   "source": [
    "from cdqa.utils.download import download_squad, download_model\n",
    "\n",
    "directory = 'models'\n",
    "\n",
    "# Downloading data\n",
    "# download_squad(dir=directory)\n",
    "\n",
    "# Downloading pre-trained BERT fine-tuned on SQuAD 1.1\n",
    "download_model('distilbert-squad_1.1', dir=directory)"
   ]
  },
  {
   "cell_type": "code",
   "execution_count": 9,
   "metadata": {},
   "outputs": [
    {
     "data": {
      "text/html": [
       "<div>\n",
       "<style scoped>\n",
       "    .dataframe tbody tr th:only-of-type {\n",
       "        vertical-align: middle;\n",
       "    }\n",
       "\n",
       "    .dataframe tbody tr th {\n",
       "        vertical-align: top;\n",
       "    }\n",
       "\n",
       "    .dataframe thead th {\n",
       "        text-align: right;\n",
       "    }\n",
       "</style>\n",
       "<table border=\"1\" class=\"dataframe\">\n",
       "  <thead>\n",
       "    <tr style=\"text-align: right;\">\n",
       "      <th></th>\n",
       "      <th>question_text</th>\n",
       "      <th>short_answers</th>\n",
       "      <th>title</th>\n",
       "      <th>paragraphs</th>\n",
       "    </tr>\n",
       "  </thead>\n",
       "  <tbody>\n",
       "    <tr>\n",
       "      <th>0</th>\n",
       "      <td>which is the most common use of opt-in e-mail ...</td>\n",
       "      <td>a newsletter sent to an advertising firm 's cu...</td>\n",
       "      <td>Email marketing</td>\n",
       "      <td>[Email marketing - Wikipedia  Email marketing ...</td>\n",
       "    </tr>\n",
       "    <tr>\n",
       "      <th>1</th>\n",
       "      <td>how i.met your mother who is the mother</td>\n",
       "      <td>Tracy McConnell</td>\n",
       "      <td>The Mother ( How I Met Your Mother )</td>\n",
       "      <td>[The Mother ( How I Met Your Mother ) - wikipe...</td>\n",
       "    </tr>\n",
       "    <tr>\n",
       "      <th>2</th>\n",
       "      <td>who had the most wins in the nfl</td>\n",
       "      <td>Tom Brady</td>\n",
       "      <td>List of National Football League career quarte...</td>\n",
       "      <td>[List of National Football League career quart...</td>\n",
       "    </tr>\n",
       "    <tr>\n",
       "      <th>3</th>\n",
       "      <td>who played mantis guardians of the galaxy 2</td>\n",
       "      <td>Pom Klementieff</td>\n",
       "      <td>Pom Klementieff</td>\n",
       "      <td>[Pom Klementieff - wikipedia  Pom Klementieff ...</td>\n",
       "    </tr>\n",
       "    <tr>\n",
       "      <th>4</th>\n",
       "      <td>the nashville sound brought a polished and cos...</td>\n",
       "      <td>the use of lush string arrangements with a rea...</td>\n",
       "      <td>Nashville sound</td>\n",
       "      <td>[Nashville sound - wikipedia  Nashville sound ...</td>\n",
       "    </tr>\n",
       "  </tbody>\n",
       "</table>\n",
       "</div>"
      ],
      "text/plain": [
       "                                       question_text  \\\n",
       "0  which is the most common use of opt-in e-mail ...   \n",
       "1            how i.met your mother who is the mother   \n",
       "2                   who had the most wins in the nfl   \n",
       "3        who played mantis guardians of the galaxy 2   \n",
       "4  the nashville sound brought a polished and cos...   \n",
       "\n",
       "                                       short_answers  \\\n",
       "0  a newsletter sent to an advertising firm 's cu...   \n",
       "1                                    Tracy McConnell   \n",
       "2                                          Tom Brady   \n",
       "3                                    Pom Klementieff   \n",
       "4  the use of lush string arrangements with a rea...   \n",
       "\n",
       "                                               title  \\\n",
       "0                                    Email marketing   \n",
       "1               The Mother ( How I Met Your Mother )   \n",
       "2  List of National Football League career quarte...   \n",
       "3                                    Pom Klementieff   \n",
       "4                                    Nashville sound   \n",
       "\n",
       "                                          paragraphs  \n",
       "0  [Email marketing - Wikipedia  Email marketing ...  \n",
       "1  [The Mother ( How I Met Your Mother ) - wikipe...  \n",
       "2  [List of National Football League career quart...  \n",
       "3  [Pom Klementieff - wikipedia  Pom Klementieff ...  \n",
       "4  [Nashville sound - wikipedia  Nashville sound ...  "
      ]
     },
     "execution_count": 9,
     "metadata": {},
     "output_type": "execute_result"
    }
   ],
   "source": [
    "import pandas as pd\n",
    "from ast import literal_eval\n",
    "from cdqa.pipeline import QAPipeline\n",
    "\n",
    "df = pd.read_csv('dataset.csv', converters={'paragraphs': literal_eval})\n",
    "df.head()"
   ]
  },
  {
   "cell_type": "code",
   "execution_count": 10,
   "metadata": {},
   "outputs": [
    {
     "data": {
      "text/plain": [
       "QAPipeline(reader=BertQA(adam_epsilon=1e-08,\n",
       "                         bert_model='distilbert-base-uncased',\n",
       "                         do_lower_case=True, fp16=False,\n",
       "                         gradient_accumulation_steps=1, learning_rate=5e-05,\n",
       "                         local_rank=-1, loss_scale=0, max_answer_length=30,\n",
       "                         n_best_size=20, no_cuda=False,\n",
       "                         null_score_diff_threshold=0.0, num_train_epochs=3.0,\n",
       "                         output_dir=None, predict_batch_size=8, seed=42,\n",
       "                         server_ip='', ser...size=8,\n",
       "                         verbose_logging=False, version_2_with_negative=False,\n",
       "                         warmup_proportion=0.1, warmup_steps=0),\n",
       "           retrieve_by_doc=False,\n",
       "           retriever=BM25Retriever(b=0.75, floor=None, k1=2.0, lowercase=True,\n",
       "                                   max_df=0.85, min_df=2, ngram_range=(1, 2),\n",
       "                                   preprocessor=None, stop_words='english',\n",
       "                                   token_pattern='(?u)\\\\b\\\\w\\\\w+\\\\b',\n",
       "                                   tokenizer=None, top_n=20, verbose=False,\n",
       "                                   vocabulary=None))"
      ]
     },
     "execution_count": 10,
     "metadata": {},
     "output_type": "execute_result"
    }
   ],
   "source": [
    "cdqa_pipeline = QAPipeline(reader='models/distilbert_qa.joblib') # use 'distilbert_qa.joblib' for DistilBERT instead of BERT\n",
    "cdqa_pipeline.fit_retriever(df=df)"
   ]
  },
  {
   "cell_type": "code",
   "execution_count": 11,
   "metadata": {},
   "outputs": [
    {
     "name": "stdout",
     "output_type": "stream",
     "text": [
      "query: which is the most common use of opt-in e-mail marketing\n",
      "answer: when approaching a level crossing\n",
      "title: Train horn\n",
      "paragraph: Horn signals are regulated in the Zp category of the Eisenbahn - Bau - und Betriebsordnung . Their most common use today is when approaching a level crossing that lacks barriers , and for warning purposes .  \n"
     ]
    }
   ],
   "source": [
    "query = 'which is the most common use of opt-in e-mail marketing'\n",
    "prediction = cdqa_pipeline.predict(query=query)\n",
    "print('query: {}'.format(query))\n",
    "print('answer: {}'.format(prediction[0]))\n",
    "print('title: {}'.format(prediction[1]))\n",
    "print('paragraph: {}'.format(prediction[2]))"
   ]
  },
  {
   "cell_type": "markdown",
   "metadata": {},
   "source": [
    "## Make prediction for each row"
   ]
  },
  {
   "cell_type": "code",
   "execution_count": 12,
   "metadata": {},
   "outputs": [
    {
     "name": "stdout",
     "output_type": "stream",
     "text": [
      "------------Example 0----------------\n",
      " \n",
      "query: which is the most common use of opt-in e-mail marketing\n",
      "predicted answer: when approaching a level crossing\n",
      "annotated answer: a newsletter sent to an advertising firm 's customers\n",
      "title: Train horn\n",
      "paragraph: Horn signals are regulated in the Zp category of the Eisenbahn - Bau - und Betriebsordnung . Their most common use today is when approaching a level crossing that lacks barriers , and for warning purposes .  \n",
      " \n",
      "------------Example 1----------------\n",
      " \n",
      "query: how i.met your mother who is the mother\n",
      "predicted answer: The Mother\n",
      "annotated answer: Tracy McConnell\n",
      "title: The Mother ( How I Met Your Mother )\n",
      "paragraph: The Mother ( How I Met Your Mother ) - wikipedia  The Mother ( How I Met Your Mother )  Jump to : navigation , search    Tracy McConnell     How I Met Your Mother character     The Mother appearing in `` The Locket ''     First appearance   `` Lucky Penny ( unseen ) '' `` Something New '' ( seen )     Last appearance   `` Last Forever ''     Created by   Carter Bays Craig Thomas     Portrayed by   Cristin Milioti     Information     Aliases   The Mother     Gender   Female     Spouse ( s )   Ted Mosby     Significant other ( s )   Max ( deceased former boyfriend ) Louis ( ex-boyfriend )     Children   Penny Mosby ( daughter , born in 2015 , played by Lyndsy Fonseca ) Luke Mosby ( son , born in 2017 , played by David Henrie )     Nationality   American    \n",
      " \n",
      "------------Example 2----------------\n",
      " \n",
      "query: who had the most wins in the nfl\n",
      "predicted answer: top National Football League ( NFL ) quarterbacks\n",
      "annotated answer: Tom Brady\n",
      "title: List of National Football League career quarterback wins leaders\n",
      "paragraph: The following is a list of the top National Football League ( NFL ) quarterbacks in wins . In the NFL , the quarterback is the only position that is credited with records of wins and losses .  \n",
      " \n",
      "------------Example 3----------------\n",
      " \n",
      "query: who played mantis guardians of the galaxy 2\n",
      "predicted answer: Pom Klementieff\n",
      "annotated answer: Pom Klementieff\n",
      "title: Guardians of the Galaxy ( film )\n",
      "paragraph: Guardians of the Galaxy Vol. 2 was released on May 5 , 2017 , again written and directed by James Gunn . Pratt , Saldana , Bautista , Diesel , Cooper , Rooker , Gillan , and Sean Gunn all reprise their roles in the film , and are joined by Pom Klementieff as Mantis , Elizabeth Debicki as Ayesha , Chris Sullivan as Taserface , and Kurt Russell as Quill 's father Ego .   Guardians of the Galaxy Vol. 3 ( edit )  \n",
      " \n",
      "------------Example 4----------------\n",
      " \n",
      "query: the nashville sound brought a polished and cosmopolitan sound to country music by\n",
      "predicted answer: Countrypolitan\n",
      "annotated answer: the use of lush string arrangements with a real orchestra and often , background vocals provided by a choir\n",
      "title: Nashville sound\n",
      "paragraph: In the early 1960s , the Nashville sound began to be challenged by the rival Bakersfield sound on the country side and by the British Invasion on the pop side ; compounding these problems were the sudden deaths , in separate airplane crashes , of Patsy Cline and Jim Reeves , two of the Nashville Sound 's biggest stars . Nashville 's pop song structure became more pronounced and it morphed into what was called Countrypolitan - a smoother sound typified through the use of lush string arrangements with a real orchestra and often , background vocals provided by a choir . Countrypolitan was aimed straight at mainstream markets and it sold well throughout the later 1960s into the early 1970s . Among the architects of this sound were producers Billy Sherrill ( who was instrumental in shaping Tammy Wynette 's early career ) and Glenn Sutton . Artists who typified the countrypolitan sound initially included Wynette , Glen Campbell ( who recorded in Hollywood and not Nashville ) , Lynn Anderson , Charlie Rich , and Charley Pride , the latter being a rare example of a top - selling African - American country performer .  \n",
      " \n",
      "------------Example 5----------------\n",
      " \n",
      "query: what channel is the premier league on in france\n",
      "predicted answer: Ligue 1\n",
      "annotated answer: SFR Sport\n",
      "title: List of Premier League broadcasters\n",
      "paragraph: These are the countries and channels that broadcast the Premier League for 2016 - 19 :   Broadcasters by region ( edit )  African broadcasters ( edit )      Language   Broadcaster     Sub-saharan Africa   English French   Supersport Kwesé Sports Canal+    Asian broadcasters ( edit )    Country   Language   Broadcasters     Afghanistan   Afghan   Ariana TV     Bhutan   English   STAR Sports     India     Maldives     Nepal     Sri Lanka     Bangladesh   English   STAR Sports Gazi TV     Pakistan   English   STAR Sports PTV Sports     China ( mainland )   Mandarin   CCTV CSPN BTV SMG SZMG GDTV GZTV CBG SDTV XJTV TJTV FMG DLTV JSBC ZZTV HBTV Tencent LeSports PPTV Super Sports     Hong Kong   English Cantonese   now TV LeSports     Indonesia   English Indonesian   beIN Sports RCTI MNCTV     Japan   Japanese   J Sports NHK Sportsnavi     Kazakhstan   Kazakh   Setanta Sports     Kyrgyzstan   Kyrgyz   KTRK Sport     Macau   English Cantonese Portuguese   Super Sports     Mongolia   Mongolian   Sansar HD SPS Premier Sports Channel     South Korea   English Korean   SBS Sports SPOTV     Malaysia & Brunei   English Malay & Cantonese   Astro     Myanmar   English Burmese   Sky Net     Philippines   English Tagalog   beIN Sports     Singapore   English   Singtel TV     Taiwan   Mandarin English   Eleven Sports     Thailand , Laos & Cambodia   Thai English   beIN Sports PPTV     Tajikistan   Tajik   Varzish TV Football TV     Uzbekistan   Uzbek   UZ Report TV Futbol TV     Vietnam   Vietnamese English   K+ TTTV , BDTV ( VTVCab ) FPT Telecom    European broadcasters ( edit )    Country   Language   Broadcasters     Albania   Albanian   SuperSport     Kosovo     Serbia   Serbian Croatian Macedonian Slovenian   Sport Klub     Croatia     Bosnia and Herzegovina     Montenegro     Macedonia     Slovenia     Andorra   Spanish   Movistar+     Armenia   Armenian   Armenia 2     Austria   German   DAZN     Azerbaijan   Azerbaijani   AzTV     Belarus   Belarusian   Beltelradio     Belgium   Dutch French   Play Sports VOO Sport     Bulgaria   Bulgarian   Diema Sport     Cyprus   Greek   CytaVision     Czech Republic   Czech   Digi Sport     Denmark   Danish   TV3 Sport 6'eren     Estonia   Estonian   Viasat Sport Baltic     Finland   Finnish   Viasat Sport     France   French   SFR Sport     Georgia   Georgian   Silknet     Germany   German   DAZN     Greece   Greek   Cosmote Sport     Hungary   Hungarian   Spíler TV     Iceland   Icelandic   Stöð 2 Sport     Ireland   English   Sky Sports BT Sport     Italy   Italian   SKY Sport     Latvia   Latvian   Viasat Sport Baltic     Liechtenstein   German   DAZN     Lithuania   Lithuanian   Viasat Sport Baltic     Luxembourg   French   VOO Sport     Malta   English   GO Sports     Netherlands   Dutch   Ziggo Sport Totaal     Norway   English / Norwegian   TV2     Poland   Polish   NC+     Portugal   Portuguese   Sport TV     Romania   Romanian   Eurosport 1 Telekom Sport     Russia   Russian   Match TV     San Marino   Italian   SKY Sport     Slovakia   Czech   Digi Sport     Spain   Spanish   Movistar+     Sweden   Swedish   Viasat Sport     Switzerland   German French   DAZN SFR Sport     Turkey   Turkish   S Sport     Ukraine   Ukrainian   Football TV Сhannel     United Kingdom   English   Sky Sports BT Sport BBC Sport ( Highlights only )    Latin American broadcasters ( edit )    Country   Language   Broadcasters     Brazil   Portuguese   ESPN Brasil     Argentina   Spanish   DirecTV Sports ESPN     Chile     Colombia     Ecuador     Peru     Uruguay     Venezuela     Bolivia   Spanish   ESPN ( 3 matches )     Paraguay     Costa Rica   Spanish   SKY Sports     Dominican Republic     El Salvador     Guatemala     Honduras     Mexico     Nicaragua     Panama    Middle Eastern and North African broadcasters ( edit )    Country   Language   Broadcasters     Israel   Hebrew   Sport 1     Middle East and North Africa   Arabic English French   beIN Sports    North American and Caribbean broadcasters ( edit )    Country   Language   Broadcasters     Canada   English   TSN Sportsnet     Caribbean   English   Flow Sports     United States ( including Puerto Rico & the U.S. Virgin Islands )   English Spanish   NBC Sports Network Telemundo    Oceanian broadcasters ( edit )    Country   Language   Broadcasters     Australia   English   Optus Sport SBS     New Zealand   English   beIN Sports     Pacific Islands   English   Sky Pacific     Papua New Guinea   English   Digicel Play     References ( edit )    Jump up ^ `` Who is the Premier League 's best ? '' . FIFA. 11 December 2007 . Retrieved 7 April 2011 .   Jump up ^ `` BT Sport '' . Premier League . Retrieved 29 July 2013 .   Jump up ^ `` BBC Sport '' . Premier League . Retrieved 29 July 2013 .   Jump up ^ http://www.uefa.com/news/newsid=19817.html   Jump up ^ `` Premier League international rights deals for 2016 - 19 '' . Premier League . Retrieved 15 May 2016 .    External links ( edit )    Premier League official website              Broadcasters in European Football ( UEFA )     Domestic leagues     Albania   Andorra   Armenia   Austria   Azerbaijan   Belarus   Belgium   Bosnia and Herzegovina   Bulgaria   Croatia   Cyprus   Czech Republic   Denmark   England   Estonia   Faroe Islands   Finland   France   Georgia   Germany   Greece   Hungary   Iceland   Israel   Italy   Kosovo   Kazakhstan   Latvia   Lithuania   Luxembourg   Macedonia   Malta   Moldova   Montenegro   Netherlands   Northern Ireland   Norway   Poland   Portugal   Republic of Ireland   Romania   Russia   San Marino   Scotland   Serbia   Slovakia   Slovenia   Spain   Sweden   Switzerland   Turkey   Ukraine   Wales       Domestic cups     Albania   Andorra   Armenia   Austria   Azerbaijan   Belarus   Belgium   Bosnia and Herzegovina   Bulgaria   Croatia   Cyprus   Czech Republic   Denmark   England   Estonia   Faroe Islands   Finland   France   Georgia   Germany   Greece   Hungary   Iceland   Israel   Italy   Kazakhstan   Latvia   Liechtenstein   Lithuania   Luxembourg   Macedonia   Malta   Moldova   Montenegro   Netherlands   Northern Ireland   Norway   Poland   Portugal   Republic of Ireland   Romania   Russia   San Marino   Scotland   Serbia   Slovakia   Slovenia   Spain   Sweden   Switzerland   Turkey   Ukraine   Wales       League Cups     England   Finland   France   Hungary   Iceland   Israel   Northern Ireland   Portugal   Republic of Ireland   Scotland   Wales       UEFA competitions     Champions League   Europa League   Super Cup                 Premier League     Seasons     1992 -- 93   1993 -- 94   1994 -- 95   1995 -- 96   1996 -- 97   1997 -- 98   1998 -- 99   1999 -- 2000   2000 -- 01   2001 -- 02   2002 -- 03   2003 -- 04   2004 -- 05   2005 -- 06   2006 -- 07   2007 -- 08   2008 -- 09   2009 -- 10   2010 -- 11   2011 -- 12   2012 -- 13   2013 -- 14   2014 -- 15   2015 -- 16   2016 -- 17   2017 -- 18       Clubs      2017 -- 18     AFC Bournemouth   Arsenal   Brighton & Hove Albion   Burnley   Chelsea   Crystal Palace   Everton   Huddersfield Town   Leicester City   Liverpool   Manchester City   Manchester United   Newcastle United   Southampton   Stoke City   Swansea City   Tottenham Hotspur   Watford   West Bromwich Albion   West Ham United       Former     Aston Villa   Barnsley   Birmingham City   Blackburn Rovers   Blackpool   Bolton Wanderers   Bradford City   Cardiff City   Charlton Athletic   Coventry City   Derby County   Fulham   Hull City   Ipswich Town   Leeds United   Middlesbrough   Norwich City   Nottingham Forest   Oldham Athletic   Portsmouth   Queens Park Rangers   Reading   Sheffield United   Sheffield Wednesday   Sunderland   Swindon Town   Wigan Athletic   Wimbledon   Wolverhampton Wanderers          Competition     Teams   winners     Players   foreign   foreign scorers   winners     Managers       Stadia   Founding   Broadcasting foundation   Broadcasters   Referees       Statistics and awards     Records   All - time table   Hat - tricks   Highest scores   Golden Boot   Golden Glove   Manager of the Season   Player of the Season   Manager of the Month   Player of the Month   Goal of the Month   Players with 500 + appearances   Players with 100 + goals   Top scorers by season   Goalkeepers with 100 + clean sheets   10 Seasons Awards   20 Seasons Awards       Finances     Richest clubs :   Deloitte list   Forbes ' list     Team owners   Transfer records   Game 39   Premier League -- Football League gulf       Associated competitions     Asia Trophy   FA Community Shield   FA Cup   EFL Cup   UEFA Champions League   UEFA Europa League   Premier League 2   U18 Premier League   Premier League International Cup                        Association football on television     Broadcasters by top level league      Americas     Superliga Argentina ( Argentina )   Campeonato Brasileiro Série A ( Brazil )   Major League Soccer ( MLS Cup ) ( United States / Canada )   Liga MX ( Mexico )       Europe     Armenian Premier League ( Armenia )   Belgian Pro League ( Belgium )   Bundesliga ( Germany )   Ekstraklasa ( Poland )   Eredivisie ( Netherlands )   Czech First League ( Czech Republic )   La Liga ( Spain )   Liga I ( Romania )   Ligue 1 ( France )   Nemzeti Bajnokság I ( Hungary )   Premier League ( England )   Primeira Liga ( Portugal )   Russian Premier League ( Russia )   Scottish Premiership ( Scotland )   Serie A ( Italy )   Vala SuperLiga ( Kosovo )   Slovenian PrvaLiga ( Slovenia )   Super League Greece ( Greece )   Ukrainian Premier League ( Ukraine )       Other     Ligue 1 ( Algeria )   A-League ( Australia )   Thai League ( Thailand )          Broadcast contracts by country      Americas     Canada ( history )   United States   Central America   South America   Brazil       Asia     Japan   Middle East   Philippines   Thailand       Europe     Albania   Denmark   Belgium   Bosnia and Herzegovina   Croatia   France   Germany   Greece   Ireland   Israel   Italy   Kosovo   Montenegro   Netherlands   Portugal   Romania   Russia   Serbia   Spain   Sweden   United Kingdom ( commentators , history )       Oceania     Australia   New Zealand          Broadcasters by event      Americas     Copa Libertadores       Europe     UEFA Champions League   UEFA Europa League       FIFA World Cup     1998   2002   2006     2014   2018       UEFA Euro     2000     2008   2012   2016   2020          Dedicated channels      Canada     beIN Sports   EuroWorld Sport   Fox Sports World Canada   Sportsnet World       France     beIN Sports   Canal+ Sport   SFR Sports 1   OM TV   OL TV   Girondins TV       Italy     Premium Calcio   Sky Calcio   Inter Channel   Juventus Channel   Milan Channel       Spain     beIN Sports   beIN LaLiga   M. Fútbol   M. Partidazo   Real Madrid TV   Barça TV       United Kingdom     Sky Sports 1   BT Sport 1   Arsenal TV   Celtic TV   Chelsea TV   LFC TV   MUTV   Rangers TV       United States     beIN Sports   Fox Soccer Plus   GOL TV   MLS Direct Kick     ESPN Deportes   Fox Deportes   Univision Deportes Network          Individual network coverage      A-League     Fox Sports FC   Shoot Out   Thursday FC   The World Game       Bundesliga     Soccer Made in Germany       Major League Soccer     ESPN   MLS Game of the Week   MLS Primetime Thursday   MLS Soccer Saturday   MLS Soccer Sunday     Fox Soccer   NBCSN   TSN       Ligue 1     Téléfoot       Premier League     Monday Night Football   Super Sunday   Match of the Day   Match of the Day 2   The Premier League Show   Match of the Day ( U.S. TV series )   The Premiership   Soccer Central Matchday         Retrieved from `` https://en.wikipedia.org/w/index.php?title=List_of_Premier_League_broadcasters&oldid=808611916 '' Categories :   Premier League on television   Premier League lists   Association football on television   Hidden categories :   EngvarB from May 2014   Use dmy dates from May 2014           Talk                                           Contents                   About Wikipedia                                           Bahasa Indonesia   Edit links   This page was last edited on 3 November 2017 , at 23 : 38 .   Text is available under the Creative Commons Attribution - ShareAlike License ; additional terms may apply . By using this site , you agree to the Terms of Use and Privacy Policy . Wikipedia ® is a registered trademark of the Wikimedia Foundation , Inc. , a non-profit organization .       About Wikipedia                    \n",
      " \n",
      "------------Example 6----------------\n",
      " \n"
     ]
    },
    {
     "name": "stdout",
     "output_type": "stream",
     "text": [
      "query: who needs to be in the car with a permit driver\n",
      "predicted answer: an adult licensed driver\n",
      "annotated answer: an adult licensed driver who is at least 21 years of age or older and in the passenger seat of the vehicle at all times\n",
      "title: Learner 's permit\n",
      "paragraph: Typically , a driver operating with a learner 's permit must be accompanied by an adult licensed driver who is at least 21 years of age or older and in the passenger seat of the vehicle at all times .  \n",
      " \n",
      "------------Example 7----------------\n",
      " \n",
      "query: god's not dead a light in the darkness release date\n",
      "predicted answer: March 30 , 2018\n",
      "annotated answer: March 30 , 2018\n",
      "title: God 's Not Dead : a Light in Darkness\n",
      "paragraph: God 's Not Dead : a Light in Darkness - Wikipedia  God 's Not Dead : a Light in Darkness     God 's Not Dead : A Light in Darkness     Theatrical release poster     Directed by   Michael Mason     Produced by     David A.R. White   Michael Scott   Brittany Yost   Elizabeth Travis   Alysoun Wolfe       Written by   Michael Mason     Starring     David A.R. White   John Corbett   Shane Harper   Ted McGinley   Tatum O'Neal       Music by   Pancho Burgos - Goizueta     Cinematography   Brian Shanley     Edited by   Joseph Sandoval     Production company   Pure Flix     Distributed by   Pure Flix Entertainment     Release date     March 30 , 2018 ( 2018 - 03 - 30 )               Running time   106 minutes     Country   United States     Language   English     Box office   $5.7 million    \n",
      " \n",
      "------------Example 8----------------\n",
      " \n",
      "query: who is the current president of un general assembly\n",
      "predicted answer: Miroslav Lajčák\n",
      "annotated answer: Miroslav Lajčák of Slovakia\n",
      "title: President of the United Nations General Assembly\n",
      "paragraph: President of the United Nations General Assembly - wikipedia  President of the United Nations General Assembly  Jump to : navigation , search    President of the United Nations General Assembly     Emblem of the United Nations     Incumbent Miroslav Lajčák     Appointer   United Nations General Assembly     Term length   1 year     Inaugural holder   Paul - Henri Spaak     Formation   1946     Website   List of Presidents of the UN General Assembly    \n",
      " \n",
      "------------Example 9----------------\n",
      " \n",
      "query: when do they pull the powerball numbers 2016\n",
      "predicted answer: January 13 , 2016\n",
      "annotated answer: every Wednesday and Saturday evening at 10 : 59 p.m. Eastern Time\n",
      "title: Powerball\n",
      "paragraph: On January 13 , 2016 , Powerball produced the largest lottery jackpot in history ; the $1.586 billion jackpot was split by three tickets sold in Chino Hills , California , in Munford , Tennessee , and in Melbourne Beach , Florida .  \n",
      " \n",
      "--- 19.470005989074707 seconds ---\n"
     ]
    }
   ],
   "source": [
    "import time\n",
    "start_time = time.time()\n",
    "\n",
    "eval_distilbert = []\n",
    "for i in range(0,10):\n",
    "    print('------------Example '+str(i)+'----------------')\n",
    "    print(' ')\n",
    "    query=df['question_text'][i]\n",
    "    prediction = cdqa_pipeline.predict(query=query)\n",
    "    print('query: {}'.format(query))\n",
    "    print('predicted answer: {}'.format(prediction[0]))\n",
    "    print('annotated answer: {}'.format(df['short_answers'][i]))\n",
    "    eval_distilbert.append([prediction[0],df['short_answers'][i]])\n",
    "    print('title: {}'.format(prediction[1]))\n",
    "    print('paragraph: {}'.format(prediction[2]))\n",
    "    print(' ')\n",
    "print(\"--- %s seconds ---\" % (time.time() - start_time))"
   ]
  },
  {
   "cell_type": "markdown",
   "metadata": {},
   "source": [
    "# Evaluation function"
   ]
  },
  {
   "cell_type": "code",
   "execution_count": 13,
   "metadata": {},
   "outputs": [],
   "source": [
    "from __future__ import print_function\n",
    "from collections import Counter\n",
    "import torch\n",
    "import string\n",
    "import re\n",
    "import argparse\n",
    "import tqdm\n",
    "import json\n",
    "import sys\n",
    "import os\n",
    "\n",
    "import joblib\n",
    "from tqdm.autonotebook import tqdm\n",
    "def normalize_answer(s):\n",
    "    \"\"\"Lower text and remove punctuation, articles and extra whitespace.\"\"\"\n",
    "\n",
    "    def remove_articles(text):\n",
    "        return re.sub(r\"\\b(a|an|the)\\b\", \" \", text)\n",
    "\n",
    "    def white_space_fix(text):\n",
    "        return \" \".join(text.split())\n",
    "\n",
    "    def remove_punc(text):\n",
    "        exclude = set(string.punctuation)\n",
    "        return \"\".join(ch for ch in text if ch not in exclude)\n",
    "\n",
    "    def lower(text):\n",
    "        return text.lower()\n",
    "\n",
    "    return white_space_fix(remove_articles(remove_punc(lower(s))))\n",
    "\n",
    "\n",
    "def f1_score(prediction, ground_truth):\n",
    "    prediction_tokens = normalize_answer(prediction).split()\n",
    "    ground_truth_tokens = normalize_answer(ground_truth).split()\n",
    "    common = Counter(prediction_tokens) & Counter(ground_truth_tokens)\n",
    "    num_same = sum(common.values())\n",
    "    if num_same == 0:\n",
    "        return 0\n",
    "    precision = 1.0 * num_same / len(prediction_tokens)\n",
    "    recall = 1.0 * num_same / len(ground_truth_tokens)\n",
    "    f1 = (2 * precision * recall) / (precision + recall)\n",
    "    return f1\n",
    "\n",
    "\n",
    "def exact_match_score(prediction, ground_truth):\n",
    "    if normalize_answer(prediction) == normalize_answer(ground_truth):\n",
    "        return 1\n",
    "    else:\n",
    "        return 0\n",
    "\n",
    "\n",
    "def metric_max_over_ground_truths(metric_fn, prediction, ground_truth):\n",
    "    scores_for_ground_truths = []\n",
    "    score = metric_fn(prediction, ground_truth)\n",
    "    scores_for_ground_truths.append(score)\n",
    "    \n",
    "    return max(scores_for_ground_truths)\n",
    "\n",
    "\n",
    "    exact_match = 100.0 * exact_match / total\n",
    "    f1 = 100.0 * f1 / total\n",
    "\n",
    "    return {\"exact_match\": exact_match, \"f1\": f1}\n",
    "\n",
    "def evaluate(eval_list):\n",
    "    f1 = exact_match =increm_f1= total = 0\n",
    "    for item in eval_list:\n",
    "        exact_match += metric_max_over_ground_truths(exact_match_score,item[0], item[1])\n",
    "        increm_f1 += metric_max_over_ground_truths(f1_score,item[0], item[1])\n",
    "    print(\"Exact_match: \", exact_match)\n",
    "    print(\"F1_score: \", increm_f1)"
   ]
  },
  {
   "cell_type": "markdown",
   "metadata": {},
   "source": [
    "## Evaluation of the models"
   ]
  },
  {
   "cell_type": "code",
   "execution_count": 14,
   "metadata": {},
   "outputs": [
    {
     "name": "stdout",
     "output_type": "stream",
     "text": [
      "Exact_match:  3\n",
      "F1_score:  3.7466666666666666\n"
     ]
    }
   ],
   "source": [
    "evaluate(eval_bert)"
   ]
  },
  {
   "cell_type": "code",
   "execution_count": 15,
   "metadata": {},
   "outputs": [
    {
     "name": "stdout",
     "output_type": "stream",
     "text": [
      "Exact_match:  2\n",
      "F1_score:  2.9066666666666667\n"
     ]
    }
   ],
   "source": [
    "evaluate(eval_distilbert)"
   ]
  },
  {
   "cell_type": "code",
   "execution_count": null,
   "metadata": {},
   "outputs": [],
   "source": []
  }
 ],
 "metadata": {
  "accelerator": "GPU",
  "colab": {
   "name": "cdqa_baseline.ipynb",
   "provenance": []
  },
  "kernelspec": {
   "display_name": "Python 3",
   "language": "python",
   "name": "python3"
  },
  "language_info": {
   "codemirror_mode": {
    "name": "ipython",
    "version": 3
   },
   "file_extension": ".py",
   "mimetype": "text/x-python",
   "name": "python",
   "nbconvert_exporter": "python",
   "pygments_lexer": "ipython3",
   "version": "3.7.4"
  }
 },
 "nbformat": 4,
 "nbformat_minor": 1
}
